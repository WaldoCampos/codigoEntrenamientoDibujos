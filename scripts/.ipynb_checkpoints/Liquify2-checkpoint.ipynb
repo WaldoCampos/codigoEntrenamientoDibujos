{
 "cells": [
  {
   "cell_type": "code",
   "execution_count": null,
   "id": "0b60ecc7",
   "metadata": {},
   "outputs": [],
   "source": [
    "import importlib\n",
    "import os\n",
    "import torch\n",
    "import torchvision.transforms as T\n",
    "from skimage import io\n",
    "from skimage.io import imread, imsave, imshow\n",
    "\n",
    "import matplotlib.pyplot as plt\n",
    "from PIL import Image, ImageOps, ImageChops\n",
    "\n",
    "import numpy as np\n",
    "import random\n",
    "from skimage import transform\n",
    "\n",
    "np.set_printoptions(threshold=np.inf)"
   ]
  },
  {
   "cell_type": "code",
   "execution_count": null,
   "id": "29108b0e",
   "metadata": {},
   "outputs": [],
   "source": [
    "root = \"/home/vision/smb-datasets/ecommerce/\"\n",
    "\n",
    "ecommerce = root + \"ecommerce_pidinet/\"\n",
    "images = root + \"images/train/\"\n",
    "pidinet = root + \"ecommerce_pidinet/\"\n",
    "sketches = root + \"sketches/train/\"\n",
    "sketches_valid = root + \"sketches_valid/\"\n",
    "ecommerce_pidinet = \"/users/btorres/databases/ecommerce/pidinet_gaussian1/\"\n",
    "\n",
    "im = \"/sueter/f0225fb37359ad5a26575007f76ec0a1.jpg\"\n",
    "sket = \"/valid/11.PNG\"\n",
    "\n"
   ]
  },
  {
   "cell_type": "code",
   "execution_count": null,
   "id": "fa321ef5",
   "metadata": {},
   "outputs": [],
   "source": [
    "img = imread(ecommerce + im)\n",
    "tor = torch.from_numpy(img)\n",
    "imshow(img)"
   ]
  },
  {
   "cell_type": "code",
   "execution_count": null,
   "id": "25f2398d",
   "metadata": {},
   "outputs": [],
   "source": [
    "def liquifyIn( xy, center, strength, curve):\n",
    "    x, y = xy.T\n",
    "    x0, y0 = center\n",
    "    rho = np.sqrt((x - x0) ** 2 + (y - y0) ** 2)\n",
    "    theta = np.arctan2(y - y0, x - x0)\n",
    "\n",
    "    rho = rho * (np.exp(-(rho*curve) + np.log(strength)) + 1)\n",
    "\n",
    "    xy[..., 0] = x0 + rho * np.cos(theta)\n",
    "    xy[..., 1] = y0 + rho * np.sin(theta)\n",
    "\n",
    "    return xy\n",
    "\n",
    "\n",
    "def liquify(img_warp, curve=0.05, strength=2.3):\n",
    "\n",
    "    for i in range(6):\n",
    "\n",
    "        center = (random.randint(50, 350), random.randint(50, 350))\n",
    "        func = lambda xy : liquifyIn(xy, center, strength, curve)\n",
    "\n",
    "        img_warp = transform.warp(img_warp, func, mode='edge')\n",
    "\n",
    "    return img_warp\n",
    "\n",
    "class RandomLiquify(object):\n",
    "    def __init__(self, prob=0.5):\n",
    "        self.prob = prob\n",
    "\n",
    "    def __call__(self, image):\n",
    "\n",
    "        p = random.uniform(0, 1)\n",
    "        img = image.numpy()\n",
    "\n",
    "        if p < self.prob:\n",
    "            img = torch.nn.functional.grid_sample()\n",
    "\n",
    "        return torch.from_numpy(img)"
   ]
  },
  {
   "cell_type": "code",
   "execution_count": null,
   "id": "78b9a294",
   "metadata": {},
   "outputs": [],
   "source": [
    "center = (-0.5,-0.5)\n",
    "curve = 4\n",
    "strength = 0.05\n",
    "size = (400, 400)\n",
    "steps = 6\n",
    "\n",
    "\n",
    "grid_x = torch.zeros(size)\n",
    "grid_y = torch.zeros(size)\n",
    "\n",
    "fieldflow = torch.zeros((size[0], size[1],2))\n",
    "\n",
    "init_x, init_y = torch.meshgrid(torch.linspace(-1, 1, size[0]),\n",
    "                                torch.linspace(-1, 1, size[1]),\n",
    "                                indexing='ij')\n",
    "\n",
    "result = tor\n",
    "result = result.unsqueeze(dim=0).unsqueeze(dim=0)\n",
    "\n",
    "for i in range(steps):\n",
    "\n",
    "    center = (random.uniform(-0.75, 0.75), random.uniform(-0.75, 0.75))\n",
    "\n",
    "    rho = torch.sqrt((init_x - center[0]) ** 2 + (init_y - center[1]) ** 2)\n",
    "    theta = torch.arctan2(init_y - center[1], init_x - center[0])\n",
    "\n",
    "    auxrho = 1 * (torch.exp(-(rho*curve) + np.log(strength)))\n",
    "\n",
    "    fieldflow[:,:,0] = init_x + auxrho * torch.cos(theta)\n",
    "    fieldflow[:,:,1] = init_y + auxrho * torch.sin(theta)\n",
    "\n",
    "\n",
    "    fieldflow = fieldflow.unsqueeze(dim=0)\n",
    "\n",
    "    result = torch.nn.functional.grid_sample(result.float(), fieldflow.float(), padding_mode='border', align_corners = True)\n",
    "\n",
    "    fieldflow = fieldflow.squeeze(dim=0)"
   ]
  },
  {
   "cell_type": "code",
   "execution_count": null,
   "id": "3be980f1",
   "metadata": {},
   "outputs": [],
   "source": [
    "rel = result.int().squeeze(dim=0).squeeze(dim=0).numpy()\n",
    "print(tor)\n",
    "print(rel)\n",
    "imshow(rel)"
   ]
  },
  {
   "cell_type": "code",
   "execution_count": null,
   "id": "031219b4",
   "metadata": {},
   "outputs": [],
   "source": [
    "import torch\n",
    "import torch.nn.functional as F\n",
    "import numpy as np\n",
    "\n",
    "sz = 5\n",
    "input_arr = torch.from_numpy(np.arange(sz*sz).reshape(1,1,sz,sz)).float()\n",
    "indices = torch.from_numpy(np.array([-1,-1, -0.5,-0.5, 0,0, 0.5,0.5, 1,1]).reshape(1, 1, 5, 2)).float()\n",
    "\n",
    "out = F.grid_sample(input_arr, indices)\n",
    "print(indices)\n",
    "print(input_arr)\n",
    "print(out)"
   ]
  }
 ],
 "metadata": {
  "kernelspec": {
   "display_name": "Python 3 (ipykernel)",
   "language": "python",
   "name": "python3"
  },
  "language_info": {
   "codemirror_mode": {
    "name": "ipython",
    "version": 3
   },
   "file_extension": ".py",
   "mimetype": "text/x-python",
   "name": "python",
   "nbconvert_exporter": "python",
   "pygments_lexer": "ipython3",
   "version": "3.8.10"
  }
 },
 "nbformat": 4,
 "nbformat_minor": 5
}
