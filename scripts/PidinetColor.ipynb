{
 "cells": [
  {
   "cell_type": "code",
   "execution_count": 1,
   "id": "9074fa6d",
   "metadata": {},
   "outputs": [],
   "source": [
    "import sys\n",
    "\n",
    "import numpy as np\n",
    "import matplotlib.pyplot as plt\n",
    "\n",
    "import torch\n",
    "import torchvision.transforms as T\n",
    "\n",
    "import glob\n",
    "import os\n",
    "\n",
    "from skimage.io import imread, imsave, imshow"
   ]
  },
  {
   "cell_type": "code",
   "execution_count": 6,
   "id": "31ea54c7",
   "metadata": {
    "collapsed": false
   },
   "outputs": [],
   "source": [
    "\n",
    "dataDir = \"/users/btorres/databases/ecommerce/train/\"\n",
    "pidinet = \"/home/vision/smb-datasets/ecommerce/ecommerce_pidinet/\"\n",
    "saveDir = \"/users/btorres/databases/ecommerce/pidinet_color_quanta16_layer_10hues/\"\n"
   ]
  },
  {
   "cell_type": "code",
   "execution_count": 7,
   "id": "2231eabe",
   "metadata": {
    "collapsed": false
   },
   "outputs": [],
   "source": [
    "def quant(imgen, cuant):\n",
    "    cuant = 256 /cuant\n",
    "    return ((torch.floor(imgen / cuant) * cuant) + (cuant/2))\n",
    "\n",
    "def blend(pidimg, imagen):\n",
    "\n",
    "    alpha = pidimg / 255\n",
    "\n",
    "    black = torch.zeros(pidimg.shape).to('cuda') + 20\n",
    "\n",
    "    result = imagen\n",
    "\n",
    "    result[:,:,0] =  alpha * imagen[:,:,0] + (1 - alpha) * black\n",
    "    result[:,:,1] =  alpha * imagen[:,:,1] + (1 - alpha) * black\n",
    "    result[:,:,2] =  alpha * imagen[:,:,2] + (1 - alpha) * black\n",
    "\n",
    "    return result\n"
   ]
  },
  {
   "cell_type": "code",
   "execution_count": null,
   "id": "10bc3e00",
   "metadata": {
    "collapsed": false,
    "pycharm": {
     "is_executing": true
    }
   },
   "outputs": [
    {
     "name": "stdout",
     "output_type": "stream",
     "text": [
      " 300 imágenes procesadas, clase: tazas"
     ]
    }
   ],
   "source": [
    "o = 0\n",
    "for class_path in glob.glob(os.path.join(dataDir, '**')):\n",
    "\n",
    "    class_name = os.path.basename(class_path) + \"/\"\n",
    "\n",
    "    newpath = saveDir + class_name\n",
    "    if not os.path.exists(newpath[:-1]):\n",
    "        os.makedirs(newpath)\n",
    "\n",
    "    for sketch_path in glob.iglob(os.path.join(class_path, '**')):\n",
    "        image_name = os.path.basename(sketch_path)\n",
    "        save_path = saveDir + class_name + \"/\" + image_name.split(\".\")[-2] + \".jpg\"\n",
    "\n",
    "        l = image_name.split(\"_\")\n",
    "        pidinet_name = \"_\".join(l[0:-1]) if len(l) > 1 else l[0]\n",
    "\n",
    "\n",
    "        pidinet_path = pidinet + class_name + \"/\" + pidinet_name.split(\".\")[0] + \".jpg\"\n",
    "\n",
    "        img = torch.from_numpy(imread(sketch_path)).to('cuda')\n",
    "\n",
    "        try:\n",
    "            pidinet_img = torch.from_numpy(imread(pidinet_path)).to('cuda')\n",
    "\n",
    "        except Exception as e:\n",
    "            print(image_name)\n",
    "            print(pidinet_path)\n",
    "            print(save_path)\n",
    "\n",
    "            print(e)\n",
    "\n",
    "            break\n",
    "\n",
    "\n",
    "\n",
    "        q = img\n",
    "        q = quant(q, 16).type(torch.int)\n",
    "        q = blend(pidinet_img, q)\n",
    "\n",
    "        img_warp = q\n",
    "\n",
    "        #img_warp = torch.cat((q, torch.unsqueeze(pidinet_img, dim = 2)), dim=2)\n",
    "        #img_warp = img_warp / img_warp.max() #normalizes img_grey in range 0 - 255\n",
    "        img_warp = img_warp.type(torch.uint8)\n",
    "        resultado= img_warp.to('cpu').numpy()\n",
    "\n",
    "\n",
    "        imsave(save_path, resultado)\n",
    "\n",
    "        if (o % 100 == 0):\n",
    "\n",
    "            sys.stdout.write('\\r {} imágenes procesadas, clase: {}'.format( o, class_name[0:-1]))\n",
    "\n",
    "        o += 1\n"
   ]
  },
  {
   "cell_type": "code",
   "execution_count": null,
   "id": "c9ae1bcd",
   "metadata": {
    "collapsed": false
   },
   "outputs": [],
   "source": []
  }
 ],
 "metadata": {
  "kernelspec": {
   "display_name": "Python 3 (ipykernel)",
   "language": "python",
   "name": "python3"
  },
  "language_info": {
   "codemirror_mode": {
    "name": "ipython",
    "version": 3
   },
   "file_extension": ".py",
   "mimetype": "text/x-python",
   "name": "python",
   "nbconvert_exporter": "python",
   "pygments_lexer": "ipython3",
   "version": "3.8.10"
  }
 },
 "nbformat": 4,
 "nbformat_minor": 5
}
